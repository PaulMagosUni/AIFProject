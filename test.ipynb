{
 "cells": [
  {
   "cell_type": "code",
   "outputs": [
    {
     "ename": "KeyboardInterrupt",
     "evalue": "",
     "output_type": "error",
     "traceback": [
      "\u001B[0;31m---------------------------------------------------------------------------\u001B[0m",
      "\u001B[0;31mKeyboardInterrupt\u001B[0m                         Traceback (most recent call last)",
      "Cell \u001B[0;32mIn[53], line 19\u001B[0m\n\u001B[1;32m     16\u001B[0m state \u001B[38;5;241m=\u001B[39m env\u001B[38;5;241m.\u001B[39mreset()\n\u001B[1;32m     17\u001B[0m game_map \u001B[38;5;241m=\u001B[39m state[\u001B[38;5;124m'\u001B[39m\u001B[38;5;124mchars\u001B[39m\u001B[38;5;124m'\u001B[39m]\n\u001B[0;32m---> 19\u001B[0m \u001B[38;5;28;43mprint\u001B[39;49m(game_map)\n\u001B[1;32m     20\u001B[0m plt\u001B[38;5;241m.\u001B[39mimshow(state[\u001B[38;5;124m'\u001B[39m\u001B[38;5;124mpixel\u001B[39m\u001B[38;5;124m'\u001B[39m][:, \u001B[38;5;241m250\u001B[39m:\u001B[38;5;241m1000\u001B[39m, :])\n",
      "Cell \u001B[0;32mIn[53], line 19\u001B[0m\n\u001B[1;32m     16\u001B[0m state \u001B[38;5;241m=\u001B[39m env\u001B[38;5;241m.\u001B[39mreset()\n\u001B[1;32m     17\u001B[0m game_map \u001B[38;5;241m=\u001B[39m state[\u001B[38;5;124m'\u001B[39m\u001B[38;5;124mchars\u001B[39m\u001B[38;5;124m'\u001B[39m]\n\u001B[0;32m---> 19\u001B[0m \u001B[38;5;28;43mprint\u001B[39;49m(game_map)\n\u001B[1;32m     20\u001B[0m plt\u001B[38;5;241m.\u001B[39mimshow(state[\u001B[38;5;124m'\u001B[39m\u001B[38;5;124mpixel\u001B[39m\u001B[38;5;124m'\u001B[39m][:, \u001B[38;5;241m250\u001B[39m:\u001B[38;5;241m1000\u001B[39m, :])\n",
      "File \u001B[0;32m_pydevd_bundle/pydevd_cython_darwin_39_64.pyx:1187\u001B[0m, in \u001B[0;36m_pydevd_bundle.pydevd_cython_darwin_39_64.SafeCallWrapper.__call__\u001B[0;34m()\u001B[0m\n",
      "File \u001B[0;32m_pydevd_bundle/pydevd_cython_darwin_39_64.pyx:627\u001B[0m, in \u001B[0;36m_pydevd_bundle.pydevd_cython_darwin_39_64.PyDBFrame.trace_dispatch\u001B[0;34m()\u001B[0m\n",
      "File \u001B[0;32m_pydevd_bundle/pydevd_cython_darwin_39_64.pyx:937\u001B[0m, in \u001B[0;36m_pydevd_bundle.pydevd_cython_darwin_39_64.PyDBFrame.trace_dispatch\u001B[0;34m()\u001B[0m\n",
      "File \u001B[0;32m_pydevd_bundle/pydevd_cython_darwin_39_64.pyx:928\u001B[0m, in \u001B[0;36m_pydevd_bundle.pydevd_cython_darwin_39_64.PyDBFrame.trace_dispatch\u001B[0;34m()\u001B[0m\n",
      "File \u001B[0;32m_pydevd_bundle/pydevd_cython_darwin_39_64.pyx:585\u001B[0m, in \u001B[0;36m_pydevd_bundle.pydevd_cython_darwin_39_64.PyDBFrame.do_wait_suspend\u001B[0;34m()\u001B[0m\n",
      "File \u001B[0;32m/Applications/PyCharm.app/Contents/plugins/python/helpers/pydev/pydevd.py:1184\u001B[0m, in \u001B[0;36mPyDB.do_wait_suspend\u001B[0;34m(self, thread, frame, event, arg, send_suspend_message, is_unhandled_exception)\u001B[0m\n\u001B[1;32m   1181\u001B[0m         from_this_thread\u001B[38;5;241m.\u001B[39mappend(frame_id)\n\u001B[1;32m   1183\u001B[0m \u001B[38;5;28;01mwith\u001B[39;00m \u001B[38;5;28mself\u001B[39m\u001B[38;5;241m.\u001B[39m_threads_suspended_single_notification\u001B[38;5;241m.\u001B[39mnotify_thread_suspended(thread_id, stop_reason):\n\u001B[0;32m-> 1184\u001B[0m     \u001B[38;5;28;43mself\u001B[39;49m\u001B[38;5;241;43m.\u001B[39;49m\u001B[43m_do_wait_suspend\u001B[49m\u001B[43m(\u001B[49m\u001B[43mthread\u001B[49m\u001B[43m,\u001B[49m\u001B[43m \u001B[49m\u001B[43mframe\u001B[49m\u001B[43m,\u001B[49m\u001B[43m \u001B[49m\u001B[43mevent\u001B[49m\u001B[43m,\u001B[49m\u001B[43m \u001B[49m\u001B[43marg\u001B[49m\u001B[43m,\u001B[49m\u001B[43m \u001B[49m\u001B[43msuspend_type\u001B[49m\u001B[43m,\u001B[49m\u001B[43m \u001B[49m\u001B[43mfrom_this_thread\u001B[49m\u001B[43m)\u001B[49m\n",
      "File \u001B[0;32m/Applications/PyCharm.app/Contents/plugins/python/helpers/pydev/pydevd.py:1199\u001B[0m, in \u001B[0;36mPyDB._do_wait_suspend\u001B[0;34m(self, thread, frame, event, arg, suspend_type, from_this_thread)\u001B[0m\n\u001B[1;32m   1196\u001B[0m             \u001B[38;5;28mself\u001B[39m\u001B[38;5;241m.\u001B[39m_call_mpl_hook()\n\u001B[1;32m   1198\u001B[0m         \u001B[38;5;28mself\u001B[39m\u001B[38;5;241m.\u001B[39mprocess_internal_commands()\n\u001B[0;32m-> 1199\u001B[0m         \u001B[43mtime\u001B[49m\u001B[38;5;241;43m.\u001B[39;49m\u001B[43msleep\u001B[49m\u001B[43m(\u001B[49m\u001B[38;5;241;43m0.01\u001B[39;49m\u001B[43m)\u001B[49m\n\u001B[1;32m   1201\u001B[0m \u001B[38;5;28mself\u001B[39m\u001B[38;5;241m.\u001B[39mcancel_async_evaluation(get_current_thread_id(thread), \u001B[38;5;28mstr\u001B[39m(\u001B[38;5;28mid\u001B[39m(frame)))\n\u001B[1;32m   1203\u001B[0m \u001B[38;5;66;03m# process any stepping instructions\u001B[39;00m\n",
      "\u001B[0;31mKeyboardInterrupt\u001B[0m: "
     ]
    }
   ],
   "source": [
    "from matplotlib import pyplot as plt\n",
    "import gym\n",
    "from utils.utils import get_target_location, get_player_location, get_valid_moves\n",
    "import minihack\n",
    "\n",
    "# Create the MiniHack environment\n",
    "env = gym.make(\n",
    "    \"MiniHack-MazeWalk-45x19-v0\",\n",
    "    observation_keys=(\"chars\", \"pixel\")\n",
    ")\n",
    "\n",
    "# Set global seed for python\n",
    "env.seed(0)\n",
    "\n",
    "# Reset the environment to get the initial observation\n",
    "state = env.reset()\n",
    "game_map = state['chars']\n",
    "\n",
    "print(game_map)\n",
    "plt.imshow(state['pixel'][:, 250:1000, :])"
   ],
   "metadata": {
    "collapsed": false,
    "ExecuteTime": {
     "end_time": "2024-01-17T08:17:11.724564Z",
     "start_time": "2024-01-17T08:13:42.322008Z"
    }
   },
   "execution_count": 53
  },
  {
   "cell_type": "code",
   "outputs": [
    {
     "name": "stdout",
     "output_type": "stream",
     "text": [
      "Agent position: (17, 40)\n"
     ]
    }
   ],
   "source": [
    "start = get_player_location(game_map)\n",
    "# target = get_target_location(game_map)\n",
    "print(\"Agent position:\", start)\n",
    "# print(\"Target position:\", target)"
   ],
   "metadata": {
    "collapsed": false,
    "ExecuteTime": {
     "end_time": "2024-01-17T08:11:21.093159Z",
     "start_time": "2024-01-17T08:11:21.090001Z"
    }
   },
   "execution_count": 50
  },
  {
   "cell_type": "code",
   "outputs": [],
   "source": [
    "def bfs(game_map, start, target):\n",
    "    queue = [start]\n",
    "    visited = set()\n",
    "    path = []\n",
    "    while queue:\n",
    "        node = queue.pop(0)\n",
    "        if node not in visited:\n",
    "            visited.add(node)\n",
    "            path.append(node)\n",
    "            if node == target:\n",
    "                return path\n",
    "            for neighbor in get_valid_moves(game_map, node):\n",
    "                queue.append(neighbor)\n",
    "    return path"
   ],
   "metadata": {
    "collapsed": false,
    "ExecuteTime": {
     "end_time": "2024-01-17T08:08:35.158119Z",
     "start_time": "2024-01-17T08:08:35.150780Z"
    }
   },
   "execution_count": 43
  },
  {
   "cell_type": "code",
   "outputs": [],
   "source": [
    "path = bfs(game_map, start, target)"
   ],
   "metadata": {
    "collapsed": false,
    "ExecuteTime": {
     "end_time": "2024-01-17T08:08:37.429966Z",
     "start_time": "2024-01-17T08:08:37.421930Z"
    }
   },
   "execution_count": 44
  },
  {
   "cell_type": "code",
   "outputs": [
    {
     "data": {
      "text/plain": "[(17, 40),\n (17, 39),\n (17, 41),\n (16, 40),\n (17, 38),\n (17, 42),\n (15, 40),\n (16, 38),\n (16, 42),\n (14, 40),\n (15, 38),\n (15, 42),\n (13, 40),\n (13, 39),\n (12, 40),\n (13, 38),\n (11, 40),\n (13, 37),\n (11, 39),\n (10, 40),\n (13, 36),\n (11, 38),\n (9, 40),\n (14, 36),\n (10, 38),\n (9, 41),\n (15, 36),\n (9, 38),\n (9, 42),\n (16, 36),\n (9, 37),\n (9, 43),\n (17, 36),\n (9, 36),\n (9, 44),\n (18, 36),\n (9, 35),\n (10, 44),\n (19, 36),\n (9, 34),\n (11, 44),\n (19, 37),\n (8, 34),\n (11, 43),\n (19, 38),\n (7, 34),\n (11, 42),\n (19, 39),\n (7, 33),\n (12, 42),\n (19, 40),\n (7, 32),\n (13, 42),\n (19, 41),\n (6, 32),\n (13, 43),\n (19, 42),\n (5, 32),\n (13, 44),\n (19, 43),\n (4, 32),\n (13, 45),\n (19, 44),\n (3, 32),\n (13, 46),\n (18, 44),\n (3, 31),\n (3, 33),\n (14, 46),\n (17, 44),\n (3, 30),\n (3, 34),\n (15, 46),\n (16, 44),\n (3, 29),\n (4, 34),\n (15, 45),\n (15, 44),\n (3, 28),\n (5, 34),\n (4, 28),\n (5, 35),\n (5, 28),\n (5, 36),\n (5, 27),\n (6, 36),\n (5, 26),\n (7, 36),\n (6, 26),\n (7, 37),\n (7, 26),\n (7, 38),\n (7, 25),\n (6, 38),\n (7, 24),\n (5, 38),\n (6, 24),\n (5, 39),\n (5, 24),\n (5, 40),\n (5, 23),\n (6, 40),\n (5, 22),\n (7, 40),\n (6, 22),\n (7, 41),\n (7, 22),\n (7, 42),\n (7, 21),\n (7, 43),\n (7, 20),\n (7, 44),\n (6, 20),\n (6, 44),\n (5, 20),\n (5, 44),\n (5, 19),\n (4, 44),\n (5, 18),\n (3, 44),\n (6, 18),\n (4, 18),\n (3, 43),\n (3, 45),\n (7, 18),\n (3, 18),\n (3, 42),\n (3, 46),\n (8, 18),\n (3, 19),\n (3, 41),\n (4, 42),\n (4, 46),\n (9, 18),\n (3, 20),\n (3, 40),\n (5, 42),\n (5, 46),\n (10, 18),\n (3, 21),\n (3, 39),\n (5, 47),\n (11, 18),\n (3, 22),\n (3, 38),\n (5, 48),\n (12, 18),\n (3, 23),\n (3, 37),\n (5, 49),\n (13, 18),\n (3, 24),\n (3, 36),\n (5, 50),\n (13, 19),\n (3, 25),\n (4, 50),\n (13, 20),\n (3, 26),\n (3, 50),\n (13, 21),\n (3, 49),\n (3, 51),\n (13, 22),\n (3, 48),\n (3, 52),\n (13, 23),\n (4, 52),\n (13, 24),\n (5, 52),\n (13, 25),\n (5, 53),\n (13, 26),\n (5, 54),\n (13, 27),\n (5, 55),\n (13, 28),\n (5, 56),\n (13, 29),\n (6, 56),\n (13, 30),\n (7, 56),\n (14, 30),\n (8, 56),\n (15, 30),\n (9, 56),\n (15, 29),\n (9, 57),\n (15, 28),\n (9, 58),\n (15, 27),\n (10, 58),\n (15, 26),\n (11, 58),\n (16, 26),\n (11, 57),\n (17, 26),\n (11, 56),\n (17, 27),\n (11, 55),\n (17, 28),\n (11, 54),\n (17, 29),\n (12, 54),\n (17, 30),\n (13, 54),\n (18, 30),\n (13, 53),\n (19, 30),\n (13, 52),\n (19, 29),\n (19, 31),\n (14, 52),\n (19, 28),\n (19, 32),\n (15, 52),\n (19, 27),\n (18, 32),\n (15, 53),\n (19, 26),\n (17, 32),\n (15, 54),\n (19, 25),\n (17, 33),\n (16, 54),\n (19, 24),\n (17, 34),\n (17, 54),\n (18, 24),\n (18, 34),\n (16, 34),\n (18, 54),\n (17, 24),\n (19, 34),\n (15, 34),\n (19, 54),\n (17, 23),\n (14, 34),\n (19, 53),\n (19, 55),\n (17, 22),\n (13, 34),\n (19, 52),\n (19, 56),\n (16, 22),\n (12, 34),\n (18, 52),\n (19, 57),\n (15, 22),\n (11, 34),\n (17, 52),\n (19, 58),\n (15, 21),\n (15, 23),\n (11, 33),\n (11, 35),\n (17, 51),\n (18, 58),\n (15, 20),\n (15, 24),\n (11, 32),\n (11, 36),\n (17, 50),\n (17, 58),\n (15, 19),\n (12, 32),\n (10, 32),\n (16, 50),\n (17, 57),\n (15, 18),\n (13, 32),\n (9, 32),\n (15, 50),\n (17, 56),\n (16, 18),\n (14, 32),\n (9, 31),\n (14, 50),\n (16, 56),\n (17, 18),\n (15, 32),\n (9, 30),\n (13, 50),\n (15, 56),\n (17, 19),\n (9, 29),\n (12, 50),\n (15, 57),\n (17, 20),\n (9, 28),\n (11, 50),\n (15, 58),\n (18, 20),\n (10, 28),\n (8, 28),\n (11, 49),\n (15, 59),\n (19, 20),\n (11, 28),\n (7, 28),\n (11, 48),\n (15, 60),\n (19, 19),\n (19, 21),\n (11, 27),\n (11, 29),\n (7, 29),\n (11, 47),\n (12, 48),\n (16, 60),\n (14, 60),\n (19, 18),\n (19, 22),\n (11, 26),\n (11, 30),\n (7, 30),\n (11, 46),\n (13, 48),\n (17, 60),\n (13, 60),\n (10, 26),\n (6, 30),\n (10, 46),\n (14, 48),\n (18, 60),\n (13, 59),\n (12, 60),\n (9, 26),\n (5, 30),\n (9, 46),\n (15, 48),\n (19, 60),\n (13, 58),\n (11, 60),\n (9, 25),\n (8, 46),\n (16, 48),\n (13, 57),\n (10, 60),\n (9, 24),\n (7, 46),\n (17, 48),\n (13, 56),\n (9, 60),\n (10, 24),\n (7, 47),\n (18, 48),\n (8, 60),\n (11, 24),\n (7, 48),\n (19, 48),\n (7, 60),\n (11, 23),\n (7, 49),\n (19, 47),\n (19, 49),\n (6, 60),\n (11, 22),\n (7, 50),\n (19, 46),\n (19, 50),\n (5, 60),\n (10, 22),\n (7, 51),\n (18, 46),\n (5, 59),\n (9, 22),\n (7, 52),\n (17, 46),\n (5, 58),\n (9, 21),\n (7, 53),\n (6, 58),\n (4, 58),\n (9, 20),\n (7, 54),\n (7, 58),\n (3, 58),\n (10, 20),\n (8, 54),\n (3, 57),\n (3, 59),\n (11, 20)]"
     },
     "execution_count": 45,
     "metadata": {},
     "output_type": "execute_result"
    }
   ],
   "source": [
    "path"
   ],
   "metadata": {
    "collapsed": false,
    "ExecuteTime": {
     "end_time": "2024-01-17T08:08:39.048183Z",
     "start_time": "2024-01-17T08:08:39.043588Z"
    }
   },
   "execution_count": 45
  },
  {
   "cell_type": "code",
   "outputs": [],
   "source": [
    "def dfs(game_map, start, target):\n",
    "    queue = [start]\n",
    "    visited = set()\n",
    "    path = []\n",
    "    while queue:\n",
    "        node = queue.pop()\n",
    "        if node not in visited:\n",
    "            visited.add(node)\n",
    "            path.append(node)\n",
    "            if node == target:\n",
    "                return path\n",
    "            for neighbor in get_valid_moves(game_map, node):\n",
    "                queue.append(neighbor)\n",
    "    return path"
   ],
   "metadata": {
    "collapsed": false
   }
  },
  {
   "cell_type": "code",
   "outputs": [],
   "source": [
    "def greedy_agent(game_map, start, target):\n",
    "    path = []\n",
    "    while start != target:\n",
    "        path.append(start)\n",
    "        neighbors = get_valid_moves(game_map, start)\n",
    "        distances = [abs(target[0] - n[0]) + abs(target[1] - n[1]) for n in neighbors]\n",
    "        start = neighbors[distances.index(min(distances))]\n",
    "    return path"
   ],
   "metadata": {
    "collapsed": false,
    "ExecuteTime": {
     "end_time": "2024-01-17T08:08:45.741016Z",
     "start_time": "2024-01-17T08:08:45.734846Z"
    }
   },
   "execution_count": 46
  },
  {
   "cell_type": "code",
   "outputs": [
    {
     "ename": "KeyboardInterrupt",
     "evalue": "",
     "output_type": "error",
     "traceback": [
      "\u001B[0;31m---------------------------------------------------------------------------\u001B[0m",
      "\u001B[0;31mKeyboardInterrupt\u001B[0m                         Traceback (most recent call last)",
      "Cell \u001B[0;32mIn[47], line 1\u001B[0m\n\u001B[0;32m----> 1\u001B[0m path \u001B[38;5;241m=\u001B[39m \u001B[43mgreedy_agent\u001B[49m\u001B[43m(\u001B[49m\u001B[43mgame_map\u001B[49m\u001B[43m,\u001B[49m\u001B[43m \u001B[49m\u001B[43mstart\u001B[49m\u001B[43m,\u001B[49m\u001B[43m \u001B[49m\u001B[43mtarget\u001B[49m\u001B[43m)\u001B[49m\n",
      "Cell \u001B[0;32mIn[46], line 5\u001B[0m, in \u001B[0;36mgreedy_agent\u001B[0;34m(game_map, start, target)\u001B[0m\n\u001B[1;32m      3\u001B[0m \u001B[38;5;28;01mwhile\u001B[39;00m start \u001B[38;5;241m!=\u001B[39m target:\n\u001B[1;32m      4\u001B[0m     path\u001B[38;5;241m.\u001B[39mappend(start)\n\u001B[0;32m----> 5\u001B[0m     neighbors \u001B[38;5;241m=\u001B[39m \u001B[43mget_valid_moves\u001B[49m\u001B[43m(\u001B[49m\u001B[43mgame_map\u001B[49m\u001B[43m,\u001B[49m\u001B[43m \u001B[49m\u001B[43mstart\u001B[49m\u001B[43m)\u001B[49m\n\u001B[1;32m      6\u001B[0m     distances \u001B[38;5;241m=\u001B[39m [\u001B[38;5;28mabs\u001B[39m(target[\u001B[38;5;241m0\u001B[39m] \u001B[38;5;241m-\u001B[39m n[\u001B[38;5;241m0\u001B[39m]) \u001B[38;5;241m+\u001B[39m \u001B[38;5;28mabs\u001B[39m(target[\u001B[38;5;241m1\u001B[39m] \u001B[38;5;241m-\u001B[39m n[\u001B[38;5;241m1\u001B[39m]) \u001B[38;5;28;01mfor\u001B[39;00m n \u001B[38;5;129;01min\u001B[39;00m neighbors]\n\u001B[1;32m      7\u001B[0m     start \u001B[38;5;241m=\u001B[39m neighbors[distances\u001B[38;5;241m.\u001B[39mindex(\u001B[38;5;28mmin\u001B[39m(distances))]\n",
      "File \u001B[0;32m~/Documents/Projects/aif/utils/utils.py:34\u001B[0m, in \u001B[0;36mget_valid_moves\u001B[0;34m(game_map, current_position)\u001B[0m\n\u001B[1;32m     32\u001B[0m     valid\u001B[38;5;241m.\u001B[39mappend((x, y \u001B[38;5;241m-\u001B[39m \u001B[38;5;241m1\u001B[39m))\n\u001B[1;32m     33\u001B[0m     \u001B[38;5;66;03m# East\u001B[39;00m\n\u001B[0;32m---> 34\u001B[0m \u001B[38;5;28;01mif\u001B[39;00m \u001B[43mx\u001B[49m\u001B[43m \u001B[49m\u001B[38;5;241;43m+\u001B[39;49m\u001B[43m \u001B[49m\u001B[38;5;241;43m1\u001B[39;49m \u001B[38;5;241m<\u001B[39m x_limit \u001B[38;5;129;01mand\u001B[39;00m \u001B[38;5;129;01mnot\u001B[39;00m is_wall(game_map[x \u001B[38;5;241m+\u001B[39m \u001B[38;5;241m1\u001B[39m, y]):\n\u001B[1;32m     35\u001B[0m     valid\u001B[38;5;241m.\u001B[39mappend((x \u001B[38;5;241m+\u001B[39m \u001B[38;5;241m1\u001B[39m, y))\n\u001B[1;32m     36\u001B[0m     \u001B[38;5;66;03m# South\u001B[39;00m\n",
      "\u001B[0;31mKeyboardInterrupt\u001B[0m: "
     ]
    }
   ],
   "source": [
    "path = greedy_agent(game_map, start, target)"
   ],
   "metadata": {
    "collapsed": false,
    "ExecuteTime": {
     "end_time": "2024-01-17T08:09:34.795542Z",
     "start_time": "2024-01-17T08:08:46.965862Z"
    }
   },
   "execution_count": 47
  },
  {
   "cell_type": "code",
   "outputs": [],
   "source": [
    "path"
   ],
   "metadata": {
    "collapsed": false,
    "ExecuteTime": {
     "start_time": "2024-01-17T08:09:34.792990Z"
    }
   },
   "execution_count": null
  },
  {
   "cell_type": "code",
   "outputs": [],
   "source": [
    "def a_star(game_map, start, target):\n",
    "    queue = [start]\n",
    "    visited = set()\n",
    "    path = []\n",
    "    while queue:\n",
    "        node = queue.pop(0)\n",
    "        if node not in visited:\n",
    "            visited.add(node)\n",
    "            path.append(node)\n",
    "            if node == target:\n",
    "                return path\n",
    "            for neighbor in get_valid_moves(game_map, node):\n",
    "                queue.append(neighbor)\n",
    "    return path"
   ],
   "metadata": {
    "collapsed": false,
    "ExecuteTime": {
     "start_time": "2024-01-17T08:04:51.895512Z"
    }
   },
   "execution_count": null
  },
  {
   "cell_type": "code",
   "outputs": [],
   "source": [
    "path = a_star(game_map, start, target)"
   ],
   "metadata": {
    "collapsed": false,
    "ExecuteTime": {
     "start_time": "2024-01-17T08:04:51.896655Z"
    }
   },
   "execution_count": null
  },
  {
   "cell_type": "code",
   "outputs": [],
   "source": [
    "path"
   ],
   "metadata": {
    "collapsed": false,
    "ExecuteTime": {
     "start_time": "2024-01-17T08:04:51.897586Z"
    }
   },
   "execution_count": null
  }
 ],
 "metadata": {
  "kernelspec": {
   "display_name": "Python 3",
   "language": "python",
   "name": "python3"
  },
  "language_info": {
   "codemirror_mode": {
    "name": "ipython",
    "version": 3
   },
   "file_extension": ".py",
   "mimetype": "text/x-python",
   "name": "python",
   "nbconvert_exporter": "python",
   "pygments_lexer": "ipython3",
   "version": "3.9.18"
  }
 },
 "nbformat": 4,
 "nbformat_minor": 2
}
