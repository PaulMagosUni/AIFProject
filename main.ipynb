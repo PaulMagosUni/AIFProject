{
 "cells": [
  {
   "cell_type": "code",
   "outputs": [],
   "source": [
    "import sys\n",
    "import gym\n",
    "import minihack\n",
    "import pandas as pd"
   ],
   "metadata": {
    "collapsed": false
   },
   "id": "2499d1fcf387ac7d"
  },
  {
   "cell_type": "code",
   "outputs": [],
   "source": [
    "df = pd.Dataframe({'bfs': [], 'dfs': [], 'astar': [], 'greedy': [],\n",
    "                   'qlearning_hmm': [], 'qlearning_lstm': []})"
   ],
   "metadata": {
    "collapsed": false
   },
   "id": "2987f1957d66d5a2"
  },
  {
   "cell_type": "code",
   "outputs": [],
   "source": [
    "num_examples = 100\n",
    "\n",
    "for i in range(num_examples):\n",
    "    env = gym.make(\"MiniHack-MazeWalk-15x15-v0\")\n",
    "    env.reset()\n",
    "    scores = {'bfs': bfs(env), 'dfs': dfs(env), 'astar': astar(env), 'greedy': greedy(env),\n",
    "              'qlearning_hmm': hmm(env), 'qlearning_lstm': lstm(env)}\n",
    "    df.append(scores)"
   ],
   "metadata": {
    "collapsed": false
   },
   "id": "65a7fe1b89f61114"
  }
 ],
 "metadata": {
  "kernelspec": {
   "display_name": "Python 3",
   "language": "python",
   "name": "python3"
  },
  "language_info": {
   "codemirror_mode": {
    "name": "ipython",
    "version": 2
   },
   "file_extension": ".py",
   "mimetype": "text/x-python",
   "name": "python",
   "nbconvert_exporter": "python",
   "pygments_lexer": "ipython2",
   "version": "2.7.6"
  }
 },
 "nbformat": 4,
 "nbformat_minor": 5
}
